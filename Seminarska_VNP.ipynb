{
  "nbformat": 4,
  "nbformat_minor": 0,
  "metadata": {
    "colab": {
      "provenance": [],
      "collapsed_sections": [
        "N8B8QHphFvra",
        "YNSx6OcgH_Gm",
        "gZa3uie1JTUJ",
        "drqdG9CWIHkF",
        "arJvpaX6I62F",
        "EeqciCUXLzeR"
      ]
    },
    "kernelspec": {
      "name": "python3",
      "display_name": "Python 3"
    },
    "language_info": {
      "name": "python"
    }
  },
  "cells": [
    {
      "cell_type": "markdown",
      "source": [
        "**Изработка на Тема 1**\n",
        "\n",
        "Да се соберат податоци за цената на храната во најмалку 3 земји од 3 различни делови на светот (на пример САД, Кенија, Шведска) за период од изминатите 4 години. Потоа, да се проучат податоците со користење на tsfresh и истите да се објаснат. За крај да се направат мрежи на поврзаноста на цената на селектирани производи во различните земји и истите соодветно да се визуелизираат и објаснат.\n",
        "\n",
        "\n",
        "***Тука се состои само кодот и негово кратко објаснување, целосно објаснување и анализа има во PDF документот.***\n",
        "\n",
        "\n",
        "Линк до датасет: https://www.kaggle.com/datasets/sumangoda/food-prices\n",
        "\n",
        "\n",
        "Изработил: Стефан Марковски 203180"
      ],
      "metadata": {
        "id": "z9p2ytwdOv5z"
      }
    },
    {
      "cell_type": "markdown",
      "source": [
        "# Библиотеки\n",
        "\n",
        "За овој проект ни се потребни библиотеките tsfresh (за анализа на податоците), networkx (за креирање на мрежа на поврзаност),\n",
        "pandas (за манипулација на податоците) и matplotlib (за визуелизација)"
      ],
      "metadata": {
        "id": "-BEMm6ebFFOn"
      }
    },
    {
      "cell_type": "code",
      "execution_count": null,
      "metadata": {
        "id": "FHl63GSqbmRa"
      },
      "outputs": [],
      "source": [
        "%pip install tsfresh\n",
        "%pip install networkx\n",
        "%pip install pandas\n",
        "%pip install matplotlib"
      ]
    },
    {
      "cell_type": "code",
      "source": [
        "import pandas as pd\n",
        "from tsfresh import extract_features\n",
        "import networkx as nx"
      ],
      "metadata": {
        "id": "lYbN7BxUdWn2"
      },
      "execution_count": 47,
      "outputs": []
    },
    {
      "cell_type": "markdown",
      "source": [
        "# Припрема на податоците\n",
        "\n",
        "Ги вчитуваме податоците и ги филтрираме според државите што ги одбравме. Филтрирање по години нема потреба зошто го имаме веќе потребниот опсег (2018-2022). Исто така правиме посебен датасет за секој производ со цел да можеме да правиме подобра анализа."
      ],
      "metadata": {
        "id": "uq3OLYJrFe5C"
      }
    },
    {
      "cell_type": "code",
      "source": [
        "countries = [\"Sweden\",\n",
        "             \"Australia\",\n",
        "             \"Canada\"]"
      ],
      "metadata": {
        "id": "Ic6hDx1AdYlz"
      },
      "execution_count": 48,
      "outputs": []
    },
    {
      "cell_type": "markdown",
      "source": [
        "[Линк од датасет](https://www.kaggle.com/datasets/sumangoda/food-prices)"
      ],
      "metadata": {
        "id": "bdONFH6BHPwd"
      }
    },
    {
      "cell_type": "code",
      "source": [
        "df = pd.read_csv(\"/content/drive/MyDrive/csvFiles/Food Prices.csv\")\n",
        "df = df[(df['Country '] == countries[0]) |\n",
        "        (df['Country '] == countries[1]) |\n",
        "        (df['Country '] == countries[2])]\n",
        "df"
      ],
      "metadata": {
        "id": "oSmPMeuedZyo"
      },
      "execution_count": null,
      "outputs": []
    },
    {
      "cell_type": "markdown",
      "source": [
        "Увидуваме дека успешно е филтриран dataframe-от"
      ],
      "metadata": {
        "id": "YHCtFRMzGeu-"
      }
    },
    {
      "cell_type": "code",
      "source": [
        "df['Country '].unique()"
      ],
      "metadata": {
        "id": "MyWAg_1aGXzY"
      },
      "execution_count": null,
      "outputs": []
    },
    {
      "cell_type": "markdown",
      "source": [
        "Правиме нова колона Date, која е спој од колоната Year и Month, за да можеме полесно правиме временски филтри"
      ],
      "metadata": {
        "id": "GLfHfGtTGgJ7"
      }
    },
    {
      "cell_type": "code",
      "source": [
        "df['Date'] = pd.to_datetime(df['Year '].astype(str) + '-' + df['Month '].astype(str), format='%Y-%m')"
      ],
      "metadata": {
        "id": "_j2b9DTCdu-3"
      },
      "execution_count": null,
      "outputs": []
    },
    {
      "cell_type": "markdown",
      "source": [
        "Ги тргнуваме колоните кои нема да ни се потребни при анализата. Year и Month ги тргнуваме поради што ги споивме погоре, а Average Price го тргнуваме бидејќи ке правиме анализа врз цените во американски долари кои се во Price in USD колоната."
      ],
      "metadata": {
        "id": "ko6Z7h3jGmZ6"
      }
    },
    {
      "cell_type": "code",
      "source": [
        "df.drop([\"Year \",\"Month \",\"Average Price \"], axis=\"columns\", inplace=True)"
      ],
      "metadata": {
        "id": "RMOq0yeBdzmd"
      },
      "execution_count": null,
      "outputs": []
    },
    {
      "cell_type": "code",
      "source": [
        "df.head()"
      ],
      "metadata": {
        "id": "mya-DDF5FqaC"
      },
      "execution_count": null,
      "outputs": []
    },
    {
      "cell_type": "markdown",
      "source": [
        "За секој производ правиме посебен датасет"
      ],
      "metadata": {
        "id": "h_Ebpq4_Glfs"
      }
    },
    {
      "cell_type": "code",
      "source": [
        "df_bread = df [(df['Food Item '] == 'Bread')]\n",
        "df_milk = df [(df['Food Item '] == 'Milk')]\n",
        "df_potatoes = df [(df['Food Item '] == 'Potatoes')]\n",
        "df_eggs = df [(df['Food Item '] == 'Eggs')]"
      ],
      "metadata": {
        "id": "PsF4VPY6jCed"
      },
      "execution_count": 52,
      "outputs": []
    },
    {
      "cell_type": "markdown",
      "source": [
        "# Анализа на податоците\n",
        "\n",
        "Ги анализираме нумеричките податоци за цената во американски долари за секоја држава. Податоците ги сортираме според новокреираната Date колона"
      ],
      "metadata": {
        "id": "N8B8QHphFvra"
      }
    },
    {
      "cell_type": "code",
      "source": [
        "extracted_features = extract_features(df[['Country ','Date','Price in USD']],\n",
        "                                      column_id=\"Country \", column_sort=\"Date\")"
      ],
      "metadata": {
        "colab": {
          "base_uri": "https://localhost:8080/"
        },
        "id": "NUVduuumj_m6",
        "outputId": "e2962c2a-dfb7-4008-ee18-24384c7c4d59"
      },
      "execution_count": 53,
      "outputs": [
        {
          "output_type": "stream",
          "name": "stderr",
          "text": [
            "WARNING:tsfresh.feature_extraction.settings:Dependency not available for matrix_profile, this feature will be disabled!\n",
            "Feature Extraction: 100%|██████████| 3/3 [00:00<00:00,  3.59it/s]\n"
          ]
        }
      ]
    },
    {
      "cell_type": "code",
      "source": [
        "extracted_features_bread = extract_features(df_bread[['Country ','Date','Price in USD']],\n",
        "                                      column_id=\"Country \", column_sort=\"Date\")"
      ],
      "metadata": {
        "colab": {
          "base_uri": "https://localhost:8080/"
        },
        "id": "GLy_2Ossd3lB",
        "outputId": "eeed11a2-12b5-44a7-b063-a85923f7b7ee"
      },
      "execution_count": 54,
      "outputs": [
        {
          "output_type": "stream",
          "name": "stderr",
          "text": [
            "WARNING:tsfresh.feature_extraction.settings:Dependency not available for matrix_profile, this feature will be disabled!\n",
            "Feature Extraction: 100%|██████████| 3/3 [00:00<00:00,  8.89it/s]\n"
          ]
        }
      ]
    },
    {
      "cell_type": "code",
      "source": [
        "extracted_features_milk = extract_features(df_milk[['Country ','Date','Price in USD']],\n",
        "                                      column_id=\"Country \", column_sort=\"Date\")"
      ],
      "metadata": {
        "colab": {
          "base_uri": "https://localhost:8080/"
        },
        "id": "9rN-rypUjXkW",
        "outputId": "c5477e6e-77ba-47e8-d0c5-e9156e816d56"
      },
      "execution_count": 55,
      "outputs": [
        {
          "output_type": "stream",
          "name": "stderr",
          "text": [
            "WARNING:tsfresh.feature_extraction.settings:Dependency not available for matrix_profile, this feature will be disabled!\n",
            "Feature Extraction: 100%|██████████| 3/3 [00:00<00:00, 11.52it/s]\n"
          ]
        }
      ]
    },
    {
      "cell_type": "code",
      "source": [
        "extracted_features_potatoes = extract_features(df_potatoes[['Country ','Date','Price in USD']],\n",
        "                                      column_id=\"Country \", column_sort=\"Date\")"
      ],
      "metadata": {
        "colab": {
          "base_uri": "https://localhost:8080/"
        },
        "id": "oPc5qKs5jb_u",
        "outputId": "6fd2238e-0df3-4644-f4d0-625e467c0e5a"
      },
      "execution_count": 56,
      "outputs": [
        {
          "output_type": "stream",
          "name": "stderr",
          "text": [
            "WARNING:tsfresh.feature_extraction.settings:Dependency not available for matrix_profile, this feature will be disabled!\n",
            "Feature Extraction: 100%|██████████| 3/3 [00:00<00:00, 16.88it/s]\n"
          ]
        }
      ]
    },
    {
      "cell_type": "code",
      "source": [
        "extracted_features_eggs = extract_features(df_eggs[['Country ','Date','Price in USD']],\n",
        "                                      column_id=\"Country \", column_sort=\"Date\")"
      ],
      "metadata": {
        "colab": {
          "base_uri": "https://localhost:8080/"
        },
        "id": "3D54CJUUjgyI",
        "outputId": "79bce882-f42e-43f3-a323-06658d3b5a4e"
      },
      "execution_count": 57,
      "outputs": [
        {
          "output_type": "stream",
          "name": "stderr",
          "text": [
            "WARNING:tsfresh.feature_extraction.settings:Dependency not available for matrix_profile, this feature will be disabled!\n",
            "Feature Extraction: 100%|██████████| 3/3 [00:00<00:00, 14.53it/s]\n"
          ]
        }
      ]
    },
    {
      "cell_type": "markdown",
      "source": [
        "За да можеме да ги видиме сите features мора да го направиме следното"
      ],
      "metadata": {
        "id": "odqv2jA3H3t5"
      }
    },
    {
      "cell_type": "code",
      "source": [
        "pd.set_option('display.max_rows', None)\n",
        "pd.set_option('display.max_columns', None)"
      ],
      "metadata": {
        "id": "qmsV3OYXd7vE"
      },
      "execution_count": 58,
      "outputs": []
    },
    {
      "cell_type": "markdown",
      "source": [
        "## Сите extracted features"
      ],
      "metadata": {
        "id": "YNSx6OcgH_Gm"
      }
    },
    {
      "cell_type": "code",
      "source": [
        "extracted_features.transpose()"
      ],
      "metadata": {
        "id": "tY0BS0QzkDZl"
      },
      "execution_count": null,
      "outputs": []
    },
    {
      "cell_type": "code",
      "source": [
        "extracted_features_bread.transpose()"
      ],
      "metadata": {
        "id": "HU6f2c8Jd8oJ"
      },
      "execution_count": null,
      "outputs": []
    },
    {
      "cell_type": "code",
      "source": [
        "extracted_features_eggs.transpose()"
      ],
      "metadata": {
        "id": "U1YPptBRjm8A"
      },
      "execution_count": null,
      "outputs": []
    },
    {
      "cell_type": "code",
      "source": [
        "extracted_features_potatoes.transpose()"
      ],
      "metadata": {
        "id": "mkQuQLvCjp_A"
      },
      "execution_count": null,
      "outputs": []
    },
    {
      "cell_type": "code",
      "source": [
        "extracted_features_milk.transpose()"
      ],
      "metadata": {
        "id": "SDA1_NMLjsAX"
      },
      "execution_count": null,
      "outputs": []
    },
    {
      "cell_type": "markdown",
      "source": [
        "## Опис на сите features:\n",
        "(долг текст, open with caution)"
      ],
      "metadata": {
        "id": "gZa3uie1JTUJ"
      }
    },
    {
      "cell_type": "markdown",
      "source": [
        "    - variance_larger_than_standard_deviation - Оваа карактеристика ни укажува дали има големи разлики помеѓу податоците.\n",
        "    За Австралија и Шведска ова е точно додека за Канада не е.\n",
        "    - has_duplicate_max - Дали се повтара како вредност максимумот. Не е точно за ниту една држава\n",
        "    - has_duplicate_min - Дали се повтара како вредност максимумот. Не е точно за ниту една држава\n",
        "    - has_duplicate - Дали просечната цена се повтара. Точно е за сите држави.\n",
        "    - sum_values - Ја дава сумата на сите просечни цени во дадениот опсег за секоја држава.\n",
        "    - abs_energy - Ја дава апсолутната енергија односно вкупната сума на сите вредности на квадрат\n",
        "    - mean_abs_change - Апсолутната просечната промена помеѓу две последователни вредности\n",
        "    - mean_change - Просечната промена помеѓу две последователни вредности\n",
        "    - mean_second_derivative_central - Ја враќа просечната вредност од централна апроксимација од втор извод\n",
        "    - median - среден цел број\n",
        "    - mean - просек\n",
        "    - length - големината на датасетот\n",
        "    - standard_deviation - стандардна девијација која покажува колку се распределени податоците релативно спрема просекот\n",
        "    - variation_coefficient - Коефициент на варијација. Дава релативна варијација околу просекот\n",
        "    - variance - распределба на податочните точки\n",
        "    - skewness - мерка за асиметријата на распределбата на веројатноста\n",
        "    - kurtosis - мерка за „опашноста“ на распределбата\n",
        "    - root_mean_square - Корен од просекот на квадрат\n",
        "    - absolute_sum_of_changes - Кумулативна сума на апсолутни последователни промени  \n",
        "    - longest_strike_below_mean - Должината на најголемата секвенца каде секој елемент е под просекот\n",
        "    - longest_strike_above_mean - Должината на најголемата секвенца каде секој елемент е над просекот\n",
        "    - count_above_mean - Број на елементи над просекот\n",
        "    - count_below_mean - Број на елементи под просекот\n",
        "    - last_location_of_maximum - Индексот на последниот максимум\n",
        "    - first_location_of_maximum - Индексот на првиот максимум\n",
        "    - last_location_of_minimum - Индексот на последниот минимум\n",
        "    - first_location_of_minimum - Индексот на првиот минимум\n",
        "    - percentage_of_reoccurring_values_to_all_values - Процентот на вредности кои се појавуваат повеќе од еднаш\n",
        "    - percentage_of_reoccurring_datapoints_to_all_datapoints - Истото\n",
        "    - sum_of_reoccurring_values - Сумата на вредности кои се повторуваат\n",
        "    - sum_of_reoccurring_data_points - Истото\n",
        "    - ratio_value_number_to_time_series_length - Фактор кој дава 1 доколку сите вредности се уникатни, инаку е помало од 1\n",
        "    - sample_entropy - Вредноста за ентропијата на податоците.\n",
        "    - maximum - Најголемата вредност\n",
        "    - absolute_maximum - Апсолутната најголема вредност\n",
        "    - minimum - Најмалата вредност\n",
        "    - benford_correlation - Дава дистрибуција на релативната честота за првата цифра за секој елемент\n",
        "    - time_reversal_asymmetry_statistic__lag_1 - симетричноста на податоците, каде lag е големината на прозорецот што треба да се земе\n",
        "    - time_reversal_asymmetry_statistic__lag_2 -\n",
        "    - time_reversal_asymmetry_statistic__lag_3 -\n",
        "    - c3__lag_1 - статистика за мерење на нелинеарност\n",
        "    - c3__lag_2 -\n",
        "    - c3__lag_3 -\n",
        "    - cid_ce__normalize_True - Мерка за одредување на комплексноста на временска серија. Се одредува дали првин дали да се нормализира\n",
        "    - cid_ce__normalize_False -\n",
        "    - symmetry_looking__r_0.0 - Одредува дали процент од податоците изгледаат симетрични. r е процентот\n",
        "    - symmetry_looking__r_0.05 -\n",
        "    - symmetry_looking__r_0.1 -\n",
        "    - symmetry_looking__r_0.15000000000000002 -\n",
        "    - symmetry_looking__r_0.2 -\n",
        "    - symmetry_looking__r_0.25 -\n",
        "    - symmetry_looking__r_0.30000000000000004 -\n",
        "    - symmetry_looking__r_0.35000000000000003 -\n",
        "    - symmetry_looking__r_0.4 -\n",
        "    - symmetry_looking__r_0.45 -\n",
        "    - symmetry_looking__r_0.5 -\n",
        "    - symmetry_looking__r_0.55 -\n",
        "    - symmetry_looking__r_0.6000000000000001 -\n",
        "    - symmetry_looking__r_0.65 -\n",
        "    - symmetry_looking__r_0.7000000000000001 -\n",
        "    - symmetry_looking__r_0.75 -\n",
        "    - symmetry_looking__r_0.8 -\n",
        "    - symmetry_looking__r_0.8500000000000001 -\n",
        "    - symmetry_looking__r_0.9 -\n",
        "    - symmetry_looking__r_0.9500000000000001 -\n",
        "    - large_standard_deviation__r_0.05 - Се одредува дали стандардната девијација е поголема од r * (max - min)\n",
        "    - large_standard_deviation__r_0.1 -\n",
        "    - large_standard_deviation__r_0.15000000000000002 -\n",
        "    - large_standard_deviation__r_0.2 -\n",
        "    - large_standard_deviation__r_0.25 -\n",
        "    - large_standard_deviation__r_0.30000000000000004 -\n",
        "    - large_standard_deviation__r_0.35000000000000003 -\n",
        "    - large_standard_deviation__r_0.4 -\n",
        "    - large_standard_deviation__r_0.45 -\n",
        "    - large_standard_deviation__r_0.5 -\n",
        "    - large_standard_deviation__r_0.55 -\n",
        "    - large_standard_deviation__r_0.6000000000000001 -\n",
        "    - large_standard_deviation__r_0.65 -\n",
        "    - large_standard_deviation__r_0.7000000000000001 -\n",
        "    - large_standard_deviation__r_0.75 -\n",
        "    - large_standard_deviation__r_0.8 -\n",
        "    - large_standard_deviation__r_0.8500000000000001 -\n",
        "    - large_standard_deviation__r_0.9 -\n",
        "    - large_standard_deviation__r_0.9500000000000001 -\n",
        "    - quantile__q_0.1 - Поделба на податоците во множества според проценти. Тука множествата се поделени со големина од 10%\n",
        "    - quantile__q_0.2 -\n",
        "    - quantile__q_0.3 -\n",
        "    - quantile__q_0.4 -\n",
        "    - quantile__q_0.6 -\n",
        "    - quantile__q_0.7 -\n",
        "    - quantile__q_0.8 -\n",
        "    - quantile__q_0.9 -\n",
        "    - autocorrelation__lag_0 - Ја одредува сличноста помеѓу временската серија и \"лагирана\" верзија односно секој елемент е поместен за n места понапред\n",
        "    - autocorrelation__lag_1 -\n",
        "    - autocorrelation__lag_2 -\n",
        "    - autocorrelation__lag_3 -\n",
        "    - autocorrelation__lag_4 -\n",
        "    - autocorrelation__lag_5 -\n",
        "    - autocorrelation__lag_6 -\n",
        "    - autocorrelation__lag_7 -\n",
        "    - autocorrelation__lag_8 -\n",
        "    - autocorrelation__lag_9 -\n",
        "    - agg_autocorrelation__f_agg_\"mean\"__maxlag_40 - Дескриптивни статистики за автокорелација\n",
        "    - agg_autocorrelation__f_agg_\"median\"__maxlag_40 -\n",
        "    - agg_autocorrelation__f_agg_\"var\"__maxlag_40 -\n",
        "    - partial_autocorrelation__lag_0 - Парцијална автокорелација каде се острануваат индиректните корелации\n",
        "    - partial_autocorrelation__lag_1 -\n",
        "    - partial_autocorrelation__lag_2 -\n",
        "    - partial_autocorrelation__lag_3 -\n",
        "    - partial_autocorrelation__lag_4 -\n",
        "    - partial_autocorrelation__lag_5 -\n",
        "    - partial_autocorrelation__lag_6 -\n",
        "    - partial_autocorrelation__lag_7 -\n",
        "    - partial_autocorrelation__lag_8 -\n",
        "    - partial_autocorrelation__lag_9 -\n",
        "    - number_cwt_peaks__n_1 - Број на различни peak-ови во опсег n\n",
        "    - number_cwt_peaks__n_5 -\n",
        "    - number_peaks__n_1 - Број на peak-ови каде некоја вредност е поголема од лево и десно за максимум n вредности\n",
        "    - number_peaks__n_3 -\n",
        "    - number_peaks__n_5 -\n",
        "    - number_peaks__n_10 -\n",
        "    - number_peaks__n_50 -\n",
        "    - binned_entropy__max_bins_10 - Распределба на податоците во делови така што би биле хомогени\n",
        "    - index_mass_quantile__q_0.1 - Релативен индекс на временската серија каде што q% од временската серија лежи лево од индексот\n",
        "    - index_mass_quantile__q_0.2 -\n",
        "    - index_mass_quantile__q_0.3 -\n",
        "    - index_mass_quantile__q_0.4 -\n",
        "    - index_mass_quantile__q_0.6 -\n",
        "    - index_mass_quantile__q_0.7 -\n",
        "    - index_mass_quantile__q_0.8 -\n",
        "    - index_mass_quantile__q_0.9 -\n",
        "    - cwt_coefficients__coeff_0__w_2__widths_(2, 5, 10, 20) - Не разбрав што е ова\n",
        "    - cwt_coefficients__coeff_0__w_5__widths_(2, 5, 10, 20) -\n",
        "    - cwt_coefficients__coeff_0__w_10__widths_(2, 5, 10, 20) -\n",
        "    - cwt_coefficients__coeff_0__w_20__widths_(2, 5, 10, 20) -\n",
        "    - cwt_coefficients__coeff_1__w_2__widths_(2, 5, 10, 20) -\n",
        "    - cwt_coefficients__coeff_1__w_5__widths_(2, 5, 10, 20) -\n",
        "    - cwt_coefficients__coeff_1__w_10__widths_(2, 5, 10, 20) -\n",
        "    - cwt_coefficients__coeff_1__w_20__widths_(2, 5, 10, 20) -\n",
        "    - cwt_coefficients__coeff_2__w_2__widths_(2, 5, 10, 20) -\n",
        "    - cwt_coefficients__coeff_2__w_5__widths_(2, 5, 10, 20) -\n",
        "    - cwt_coefficients__coeff_2__w_10__widths_(2, 5, 10, 20) -\n",
        "    - cwt_coefficients__coeff_2__w_20__widths_(2, 5, 10, 20) -\n",
        "    - cwt_coefficients__coeff_3__w_2__widths_(2, 5, 10, 20) -\n",
        "    - cwt_coefficients__coeff_3__w_5__widths_(2, 5, 10, 20) -\n",
        "    - cwt_coefficients__coeff_3__w_10__widths_(2, 5, 10, 20) -\n",
        "    - cwt_coefficients__coeff_3__w_20__widths_(2, 5, 10, 20) -\n",
        "    - cwt_coefficients__coeff_4__w_2__widths_(2, 5, 10, 20) -\n",
        "    - cwt_coefficients__coeff_4__w_5__widths_(2, 5, 10, 20) -\n",
        "    - cwt_coefficients__coeff_4__w_10__widths_(2, 5, 10, 20) -\n",
        "    - cwt_coefficients__coeff_4__w_20__widths_(2, 5, 10, 20) -\n",
        "    - cwt_coefficients__coeff_5__w_2__widths_(2, 5, 10, 20) -\n",
        "    - cwt_coefficients__coeff_5__w_5__widths_(2, 5, 10, 20) -\n",
        "    - cwt_coefficients__coeff_5__w_10__widths_(2, 5, 10, 20) -\n",
        "    - cwt_coefficients__coeff_5__w_20__widths_(2, 5, 10, 20) -\n",
        "    - cwt_coefficients__coeff_6__w_2__widths_(2, 5, 10, 20) -\n",
        "    - cwt_coefficients__coeff_6__w_5__widths_(2, 5, 10, 20) -\n",
        "    - cwt_coefficients__coeff_6__w_10__widths_(2, 5, 10, 20) -\n",
        "    - cwt_coefficients__coeff_6__w_20__widths_(2, 5, 10, 20) -\n",
        "    - cwt_coefficients__coeff_7__w_2__widths_(2, 5, 10, 20) -\n",
        "    - cwt_coefficients__coeff_7__w_5__widths_(2, 5, 10, 20) -\n",
        "    - cwt_coefficients__coeff_7__w_10__widths_(2, 5, 10, 20) -\n",
        "    - cwt_coefficients__coeff_7__w_20__widths_(2, 5, 10, 20) -\n",
        "    - cwt_coefficients__coeff_8__w_2__widths_(2, 5, 10, 20) -\n",
        "    - cwt_coefficients__coeff_8__w_5__widths_(2, 5, 10, 20) -\n",
        "    - cwt_coefficients__coeff_8__w_10__widths_(2, 5, 10, 20) -\n",
        "    - cwt_coefficients__coeff_8__w_20__widths_(2, 5, 10, 20) -\n",
        "    - cwt_coefficients__coeff_9__w_2__widths_(2, 5, 10, 20) -\n",
        "    - cwt_coefficients__coeff_9__w_5__widths_(2, 5, 10, 20) -\n",
        "    - cwt_coefficients__coeff_9__w_10__widths_(2, 5, 10, 20) -\n",
        "    - cwt_coefficients__coeff_9__w_20__widths_(2, 5, 10, 20) -\n",
        "    - cwt_coefficients__coeff_10__w_2__widths_(2, 5, 10, 20) -\n",
        "    - cwt_coefficients__coeff_10__w_5__widths_(2, 5, 10, 20) -\n",
        "    - cwt_coefficients__coeff_10__w_10__widths_(2, 5, 10, 20) -\n",
        "    - cwt_coefficients__coeff_10__w_20__widths_(2, 5, 10, 20) -\n",
        "    - cwt_coefficients__coeff_11__w_2__widths_(2, 5, 10, 20) -\n",
        "    - cwt_coefficients__coeff_11__w_5__widths_(2, 5, 10, 20) -\n",
        "    - cwt_coefficients__coeff_11__w_10__widths_(2, 5, 10, 20) -\n",
        "    - cwt_coefficients__coeff_11__w_20__widths_(2, 5, 10, 20) -\n",
        "    - cwt_coefficients__coeff_12__w_2__widths_(2, 5, 10, 20) -\n",
        "    - cwt_coefficients__coeff_12__w_5__widths_(2, 5, 10, 20) -\n",
        "    - cwt_coefficients__coeff_12__w_10__widths_(2, 5, 10, 20) -\n",
        "    - cwt_coefficients__coeff_12__w_20__widths_(2, 5, 10, 20) -\n",
        "    - cwt_coefficients__coeff_13__w_2__widths_(2, 5, 10, 20) -\n",
        "    - cwt_coefficients__coeff_13__w_5__widths_(2, 5, 10, 20) -\n",
        "    - cwt_coefficients__coeff_13__w_10__widths_(2, 5, 10, 20) -\n",
        "    - cwt_coefficients__coeff_13__w_20__widths_(2, 5, 10, 20) -\n",
        "    - cwt_coefficients__coeff_14__w_2__widths_(2, 5, 10, 20) -\n",
        "    - cwt_coefficients__coeff_14__w_5__widths_(2, 5, 10, 20) -\n",
        "    - cwt_coefficients__coeff_14__w_10__widths_(2, 5, 10, 20) -\n",
        "    - cwt_coefficients__coeff_14__w_20__widths_(2, 5, 10, 20) -\n",
        "    - spkt_welch_density__coeff_2 - Го проценува cross power spectral густината на временската серија на различни фреквенции\n",
        "    - spkt_welch_density__coeff_5 -\n",
        "    - spkt_welch_density__coeff_8 -\n",
        "    - ar_coefficient__coeff_[0-10]__k_10 - тежина на претходна вредност во серијата (Се користи за авторегресија)\n",
        "    - change_quantiles__f_agg_\"mean\"__isabs_False__qh_0.2__ql_0.0 - Агрегација на одреден простор помеѓу 2 квантила. Може да се земе апсолутна вредност или не\n",
        "    - change_quantiles__f_agg_\"var\"__isabs_False__qh_0.2__ql_0.0 -\n",
        "    - change_quantiles__f_agg_\"mean\"__isabs_True__qh_0.2__ql_0.0 -\n",
        "    - change_quantiles__f_agg_\"var\"__isabs_True__qh_0.2__ql_0.0 -\n",
        "    - change_quantiles__f_agg_\"mean\"__isabs_False__qh_0.4__ql_0.0 -\n",
        "    - change_quantiles__f_agg_\"var\"__isabs_False__qh_0.4__ql_0.0 -\n",
        "    - change_quantiles__f_agg_\"mean\"__isabs_True__qh_0.4__ql_0.0 -\n",
        "    - change_quantiles__f_agg_\"var\"__isabs_True__qh_0.4__ql_0.0 -\n",
        "    - change_quantiles__f_agg_\"mean\"__isabs_False__qh_0.6__ql_0.0 -\n",
        "    - change_quantiles__f_agg_\"var\"__isabs_False__qh_0.6__ql_0.0 -\n",
        "    - change_quantiles__f_agg_\"mean\"__isabs_True__qh_0.6__ql_0.0 -\n",
        "    - change_quantiles__f_agg_\"var\"__isabs_True__qh_0.6__ql_0.0 -\n",
        "    - change_quantiles__f_agg_\"mean\"__isabs_False__qh_0.8__ql_0.0 -\n",
        "    - change_quantiles__f_agg_\"var\"__isabs_False__qh_0.8__ql_0.0 -\n",
        "    - change_quantiles__f_agg_\"mean\"__isabs_True__qh_0.8__ql_0.0 -\n",
        "    - change_quantiles__f_agg_\"var\"__isabs_True__qh_0.8__ql_0.0 -\n",
        "    - change_quantiles__f_agg_\"mean\"__isabs_False__qh_1.0__ql_0.0 -\n",
        "    - change_quantiles__f_agg_\"var\"__isabs_False__qh_1.0__ql_0.0 -\n",
        "    - change_quantiles__f_agg_\"mean\"__isabs_True__qh_1.0__ql_0.0 -\n",
        "    - change_quantiles__f_agg_\"var\"__isabs_True__qh_1.0__ql_0.0 -\n",
        "    - change_quantiles__f_agg_\"mean\"__isabs_False__qh_0.4__ql_0.2 -\n",
        "    - change_quantiles__f_agg_\"var\"__isabs_False__qh_0.4__ql_0.2 -\n",
        "    - change_quantiles__f_agg_\"mean\"__isabs_True__qh_0.4__ql_0.2 -\n",
        "    - change_quantiles__f_agg_\"var\"__isabs_True__qh_0.4__ql_0.2 -\n",
        "    - change_quantiles__f_agg_\"mean\"__isabs_False__qh_0.6__ql_0.2 -\n",
        "    - change_quantiles__f_agg_\"var\"__isabs_False__qh_0.6__ql_0.2 -\n",
        "    - change_quantiles__f_agg_\"mean\"__isabs_True__qh_0.6__ql_0.2 -\n",
        "    - change_quantiles__f_agg_\"var\"__isabs_True__qh_0.6__ql_0.2 -\n",
        "    - change_quantiles__f_agg_\"mean\"__isabs_False__qh_0.8__ql_0.2 -\n",
        "    - change_quantiles__f_agg_\"var\"__isabs_False__qh_0.8__ql_0.2 -\n",
        "    - change_quantiles__f_agg_\"mean\"__isabs_True__qh_0.8__ql_0.2 -\n",
        "    - change_quantiles__f_agg_\"var\"__isabs_True__qh_0.8__ql_0.2 -\n",
        "    - change_quantiles__f_agg_\"mean\"__isabs_False__qh_1.0__ql_0.2 -\n",
        "    - change_quantiles__f_agg_\"var\"__isabs_False__qh_1.0__ql_0.2 -\n",
        "    - change_quantiles__f_agg_\"mean\"__isabs_True__qh_1.0__ql_0.2 -\n",
        "    - change_quantiles__f_agg_\"var\"__isabs_True__qh_1.0__ql_0.2 -\n",
        "    - change_quantiles__f_agg_\"mean\"__isabs_False__qh_0.6__ql_0.4 -\n",
        "    - change_quantiles__f_agg_\"var\"__isabs_False__qh_0.6__ql_0.4 -\n",
        "    - change_quantiles__f_agg_\"mean\"__isabs_True__qh_0.6__ql_0.4 -\n",
        "    - change_quantiles__f_agg_\"var\"__isabs_True__qh_0.6__ql_0.4 -\n",
        "    - change_quantiles__f_agg_\"mean\"__isabs_False__qh_0.8__ql_0.4 -\n",
        "    - change_quantiles__f_agg_\"var\"__isabs_False__qh_0.8__ql_0.4 -\n",
        "    - change_quantiles__f_agg_\"mean\"__isabs_True__qh_0.8__ql_0.4 -\n",
        "    - change_quantiles__f_agg_\"var\"__isabs_True__qh_0.8__ql_0.4 -\n",
        "    - change_quantiles__f_agg_\"mean\"__isabs_False__qh_1.0__ql_0.4 -\n",
        "    - change_quantiles__f_agg_\"var\"__isabs_False__qh_1.0__ql_0.4 -\n",
        "    - change_quantiles__f_agg_\"mean\"__isabs_True__qh_1.0__ql_0.4 -\n",
        "    - change_quantiles__f_agg_\"var\"__isabs_True__qh_1.0__ql_0.4 -\n",
        "    - change_quantiles__f_agg_\"mean\"__isabs_False__qh_0.8__ql_0.6 -\n",
        "    - change_quantiles__f_agg_\"var\"__isabs_False__qh_0.8__ql_0.6 -\n",
        "    - change_quantiles__f_agg_\"mean\"__isabs_True__qh_0.8__ql_0.6 -\n",
        "    - change_quantiles__f_agg_\"var\"__isabs_True__qh_0.8__ql_0.6 -\n",
        "    - change_quantiles__f_agg_\"mean\"__isabs_False__qh_1.0__ql_0.6 -\n",
        "    - change_quantiles__f_agg_\"var\"__isabs_False__qh_1.0__ql_0.6 -\n",
        "    - change_quantiles__f_agg_\"mean\"__isabs_True__qh_1.0__ql_0.6 -\n",
        "    - change_quantiles__f_agg_\"var\"__isabs_True__qh_1.0__ql_0.6 -\n",
        "    - change_quantiles__f_agg_\"mean\"__isabs_False__qh_1.0__ql_0.8 -\n",
        "    - change_quantiles__f_agg_\"var\"__isabs_False__qh_1.0__ql_0.8 -\n",
        "    - change_quantiles__f_agg_\"mean\"__isabs_True__qh_1.0__ql_0.8 -\n",
        "    - change_quantiles__f_agg_\"var\"__isabs_True__qh_1.0__ql_0.8 -\n",
        "    - fft_coefficient__attr_\"real\"__coeff_[0-99] - Фуриев коефициент од еднодимензионалена дискретна фуриева трансформација. Може да се пресмета за реални вредности, имагинарни вредности, апсолутни вредности и за агли\n",
        "    - fft_coefficient__attr_\"imag\"__coeff_[0-99] -\n",
        "    - fft_coefficient__attr_\"abs\"__coeff_[0-99] -\n",
        "    - fft_coefficient__attr_\"angle\"__coeff_[0-99] -\n",
        "    - fft_aggregated__aggtype_\"centroid\" - Агрегација на апсолутен спектрум на фуриева трансформација\n",
        "    - fft_aggregated__aggtype_\"variance\" -\n",
        "    - fft_aggregated__aggtype_\"skew\" -\n",
        "    - fft_aggregated__aggtype_\"kurtosis\" -\n",
        "    - value_count__value_0 - Број на појави за одредена вредност\n",
        "    - value_count__value_1 -\n",
        "    - value_count__value_-1 -\n",
        "    - range_count__max_1__min_-1 - Број на појави во одреден интервал\n",
        "    - range_count__max_0__min_-1000000000000.0 -\n",
        "    - range_count__max_1000000000000.0__min_0 -\n",
        "    - approximate_entropy__m_2__r_0.1 - апроксимирана ентропија\n",
        "    - approximate_entropy__m_2__r_0.3 -\n",
        "    - approximate_entropy__m_2__r_0.5 -\n",
        "    - approximate_entropy__m_2__r_0.7 -\n",
        "    - approximate_entropy__m_2__r_0.9 -\n",
        "    - friedrich_coefficients__coeff_[0-3]__m_3__r_30 - Не знам што е ова\n",
        "    - max_langevin_fixed_point__m_3__r_30 - Не знам што е ова\n",
        "    - linear_trend__attr_\"pvalue\" - Пресметка на линеарни регресија на најмали квадрати наспроти секвенца од 0 до должината на временската серија\n",
        "    - linear_trend__attr_\"rvalue\" -\n",
        "    - linear_trend__attr_\"intercept\" -\n",
        "    - linear_trend__attr_\"slope\" -\n",
        "    - linear_trend__attr_\"stderr\" -\n",
        "    - agg_linear_trend__attr_\"rvalue\"__chunk_len_[5,10,50]__f_agg_\"max\" - Истото само агрегирани над интервали од 5,10 и 50\n",
        "    - agg_linear_trend__attr_\"rvalue\"__chunk_len_[5,10,50]__f_agg_\"min\" -\n",
        "    - agg_linear_trend__attr_\"rvalue\"__chunk_len_[5,10,50]__f_agg_\"mean\" -\n",
        "    - agg_linear_trend__attr_\"rvalue\"__chunk_len_[5,10,50]__f_agg_\"var\" -\n",
        "    - agg_linear_trend__attr_\"intercept\"__chunk_len_[5,10,50]__f_agg_\"max\" -\n",
        "    - agg_linear_trend__attr_\"intercept\"__chunk_len_[5,10,50]__f_agg_\"min\" -\n",
        "    - agg_linear_trend__attr_\"intercept\"__chunk_len_[5,10,50]__f_agg_\"mean\" -\n",
        "    - agg_linear_trend__attr_\"intercept\"__chunk_len_[5,10,50]__f_agg_\"var\" -\n",
        "    - agg_linear_trend__attr_\"slope\"__chunk_len_[5,10,50]__f_agg_\"max\" -\n",
        "    - agg_linear_trend__attr_\"slope\"__chunk_len_[5,10,50]__f_agg_\"min\" -\n",
        "    - agg_linear_trend__attr_\"slope\"__chunk_len_[5,10,50]__f_agg_\"mean\" -\n",
        "    - agg_linear_trend__attr_\"slope\"__chunk_len_[5,10,50]__f_agg_\"var\" -\n",
        "    - agg_linear_trend__attr_\"stderr\"__chunk_len_[5,10,50]__f_agg_\"max\" -\n",
        "    - agg_linear_trend__attr_\"stderr\"__chunk_len_[5,10,50]__f_agg_\"min\" -\n",
        "    - agg_linear_trend__attr_\"stderr\"__chunk_len_[5,10,50]__f_agg_\"mean\" -\n",
        "    - agg_linear_trend__attr_\"stderr\"__chunk_len_[5,10,50]__f_agg_\"var\"\n",
        "    - augmented_dickey_fuller__attr_\"teststat\"__autolag_\"AIC\" - Дали постојат трендови во временската серија\n",
        "    - augmented_dickey_fuller__attr_\"pvalue\"__autolag_\"AIC\" -\n",
        "    - augmented_dickey_fuller__attr_\"usedlag\"__autolag_\"AIC\" -\n",
        "    - number_crossing_m__m_0 - Број на појави каде 2 последователни вредности и првата е помала од m, а втората е поголема од m\n",
        "    - number_crossing_m__m_-1 -\n",
        "    - number_crossing_m__m_1 -\n",
        "    - energy_ratio_by_chunks__num_segments_10__segment_focus_0 - Однос помеѓу сума на квадрати над одреден дел од податоците врз сума на квадарати врз сите податоци\n",
        "    - energy_ratio_by_chunks__num_segments_10__segment_focus_1 -\n",
        "    - energy_ratio_by_chunks__num_segments_10__segment_focus_2 -\n",
        "    - energy_ratio_by_chunks__num_segments_10__segment_focus_3 -\n",
        "    - energy_ratio_by_chunks__num_segments_10__segment_focus_4 -\n",
        "    - energy_ratio_by_chunks__num_segments_10__segment_focus_5 -\n",
        "    - energy_ratio_by_chunks__num_segments_10__segment_focus_6 -\n",
        "    - energy_ratio_by_chunks__num_segments_10__segment_focus_7 -\n",
        "    - energy_ratio_by_chunks__num_segments_10__segment_focus_8 -\n",
        "    - energy_ratio_by_chunks__num_segments_10__segment_focus_9 -\n",
        "    - ratio_beyond_r_sigma__r_0.5 - Однос на вредности кои се повеќе од r * стандардна девијација подалеку од просекот\n",
        "    - ratio_beyond_r_sigma__r_1 -\n",
        "    - ratio_beyond_r_sigma__r_1.5 -\n",
        "    - ratio_beyond_r_sigma__r_2 -\n",
        "    - ratio_beyond_r_sigma__r_2.5 -\n",
        "    - ratio_beyond_r_sigma__r_3 -\n",
        "    - ratio_beyond_r_sigma__r_5 -\n",
        "    - ratio_beyond_r_sigma__r_6 -\n",
        "    - ratio_beyond_r_sigma__r_7 -\n",
        "    - ratio_beyond_r_sigma__r_10 -\n",
        "    - count_above__t_0 - Процент на вредности кои се над t\n",
        "    - count_below__t_0 - Процент на вредности кои се под t\n",
        "    - lempel_ziv_complexity__bins_2 - Проценка на комплексност според Lempel-Ziv алгоритмот за компресија\n",
        "    - lempel_ziv_complexity__bins_3 -\n",
        "    - lempel_ziv_complexity__bins_5 -\n",
        "    - lempel_ziv_complexity__bins_10 -\n",
        "    - lempel_ziv_complexity__bins_100 -\n",
        "    - fourier_entropy__bins_2 - Пресметување на ентропија на power spectral густината\n",
        "    - fourier_entropy__bins_3 -\n",
        "    - fourier_entropy__bins_5 -\n",
        "    - fourier_entropy__bins_10 -\n",
        "    - fourier_entropy__bins_100 -\n",
        "    - permutation_entropy__dimension_3__tau_1 -\n",
        "    - permutation_entropy__dimension_4__tau_1 -\n",
        "    - permutation_entropy__dimension_5__tau_1 -\n",
        "    - permutation_entropy__dimension_6__tau_1 -\n",
        "    - permutation_entropy__dimension_7__tau_1 -\n",
        "    - query_similarity_count__query_None__threshold_0.0 - Бројот на секвенци кои се состојат во временската серија\n",
        "    - mean_n_absolute_max__number_of_maxima_7 - аритметичка средина од n апсолутни максимуми\n"
      ],
      "metadata": {
        "id": "nR2VshsAJzfX"
      }
    },
    {
      "cell_type": "markdown",
      "source": [
        "## Табела од неколку features\n",
        "\n",
        "Од сите extracted features земаме само неколку карактеристики, односно карактеристики кои ги изучувавме во текот на курсот: просек, медијана, стандардна девијација, коефициент на варијација, варианса и искривеност.\n",
        "\n",
        "Од овие карактеристики правиме табели за сите датасети кои ги креиравме"
      ],
      "metadata": {
        "id": "drqdG9CWIHkF"
      }
    },
    {
      "cell_type": "code",
      "source": [
        "def print_table(features,name):\n",
        "  data = {\n",
        "      'Country': ['Australia','Canada','Sweden'],\n",
        "      'Mean': [features['Price in USD__mean']['Australia'], features['Price in USD__mean']['Canada'], features['Price in USD__mean']['Sweden']],\n",
        "      'Median' : [features['Price in USD__median']['Australia'], features['Price in USD__median']['Canada'], features['Price in USD__median']['Sweden']],\n",
        "      'Standard deviation' : [features['Price in USD__standard_deviation']['Australia'], features['Price in USD__standard_deviation']['Canada'], features['Price in USD__standard_deviation']['Sweden']],\n",
        "      'Coefficient of variation': [features['Price in USD__variation_coefficient']['Australia'], features['Price in USD__variation_coefficient']['Canada'], features['Price in USD__variation_coefficient']['Sweden']],\n",
        "      'Variance' : [features['Price in USD__variance']['Australia'], features['Price in USD__variance']['Canada'], features['Price in USD__variance']['Sweden']],\n",
        "      'Skewness' : [features['Price in USD__skewness']['Australia'], features['Price in USD__skewness']['Canada'], features['Price in USD__skewness']['Sweden']]\n",
        "  }\n",
        "\n",
        "  tmp = pd.DataFrame(data)\n",
        "  print(name + \" table:\\n\")\n",
        "  print(tmp)"
      ],
      "metadata": {
        "id": "HxCYXF_J8rjr"
      },
      "execution_count": 64,
      "outputs": []
    },
    {
      "cell_type": "code",
      "source": [
        "print_table(extracted_features_milk,\"Milk\")"
      ],
      "metadata": {
        "colab": {
          "base_uri": "https://localhost:8080/"
        },
        "id": "0ffH_LdQBCbO",
        "outputId": "519f2eb8-d182-4dea-f384-f6a194b4eb19"
      },
      "execution_count": 65,
      "outputs": [
        {
          "output_type": "stream",
          "name": "stdout",
          "text": [
            "Milk table:\n",
            "\n",
            "     Country      Mean  Median  Standard deviation  Coefficient of variation  \\\n",
            "0  Australia  1.003167   0.980            0.116969                  0.116599   \n",
            "1     Canada  1.954500   1.945            0.069891                  0.035759   \n",
            "2     Sweden  1.168167   1.160            0.108574                  0.092944   \n",
            "\n",
            "   Variance  Skewness  \n",
            "0  0.013682  0.267500  \n",
            "1  0.004885  0.387959  \n",
            "2  0.011788  0.318478  \n"
          ]
        }
      ]
    },
    {
      "cell_type": "code",
      "source": [
        "print_table(extracted_features_bread,\"Bread\")"
      ],
      "metadata": {
        "colab": {
          "base_uri": "https://localhost:8080/"
        },
        "id": "evUdPhQlCFTB",
        "outputId": "b38c946b-e40d-4aa3-94a3-5b3cf64a302b"
      },
      "execution_count": 66,
      "outputs": [
        {
          "output_type": "stream",
          "name": "stdout",
          "text": [
            "Bread table:\n",
            "\n",
            "     Country      Mean  Median  Standard deviation  Coefficient of variation  \\\n",
            "0  Australia  1.643667    1.60            0.144982                  0.088207   \n",
            "1     Canada  2.313500    2.31            0.082378                  0.035607   \n",
            "2     Sweden  2.087833    2.06            0.194131                  0.092982   \n",
            "\n",
            "   Variance  Skewness  \n",
            "0  0.021020  0.786053  \n",
            "1  0.006786  0.290217  \n",
            "2  0.037687  0.598197  \n"
          ]
        }
      ]
    },
    {
      "cell_type": "code",
      "source": [
        "print_table(extracted_features_potatoes,\"Potatoes\")"
      ],
      "metadata": {
        "colab": {
          "base_uri": "https://localhost:8080/"
        },
        "id": "eHR2Pzz6CI4G",
        "outputId": "6fac0b7f-ce8e-45e7-ba11-36d96e6be75a"
      },
      "execution_count": 67,
      "outputs": [
        {
          "output_type": "stream",
          "name": "stdout",
          "text": [
            "Potatoes table:\n",
            "\n",
            "     Country      Mean  Median  Standard deviation  Coefficient of variation  \\\n",
            "0  Australia  2.407833   2.425            0.172772                  0.071754   \n",
            "1     Canada  2.276667   2.260            0.075270                  0.033061   \n",
            "2     Sweden  1.183667   1.150            0.085673                  0.072379   \n",
            "\n",
            "   Variance  Skewness  \n",
            "0  0.029850  0.182581  \n",
            "1  0.005666  0.611627  \n",
            "2  0.007340  0.978921  \n"
          ]
        }
      ]
    },
    {
      "cell_type": "code",
      "source": [
        "print_table(extracted_features_eggs,\"Eggs\")"
      ],
      "metadata": {
        "colab": {
          "base_uri": "https://localhost:8080/"
        },
        "id": "g8lBuoYyCLTf",
        "outputId": "9813941c-d060-4c3b-a87d-fbbf959d4643"
      },
      "execution_count": 68,
      "outputs": [
        {
          "output_type": "stream",
          "name": "stdout",
          "text": [
            "Eggs table:\n",
            "\n",
            "     Country      Mean  Median  Standard deviation  Coefficient of variation  \\\n",
            "0  Australia  2.647667   2.335            0.598209                  0.225938   \n",
            "1     Canada  3.026167   3.010            0.099551                  0.032897   \n",
            "2     Sweden  2.922000   2.915            0.279110                  0.095520   \n",
            "\n",
            "   Variance  Skewness  \n",
            "0  0.357855  1.050239  \n",
            "1  0.009910  0.624641  \n",
            "2  0.077903  0.308523  \n"
          ]
        }
      ]
    },
    {
      "cell_type": "code",
      "source": [
        "print_table(extracted_features,\"All foods\")"
      ],
      "metadata": {
        "colab": {
          "base_uri": "https://localhost:8080/"
        },
        "id": "Hp7L4yCrCPiw",
        "outputId": "2619f107-5f59-456a-ea48-4fe18a55a2bd"
      },
      "execution_count": 69,
      "outputs": [
        {
          "output_type": "stream",
          "name": "stdout",
          "text": [
            "All foods table:\n",
            "\n",
            "     Country      Mean  Median  Standard deviation  Coefficient of variation  \\\n",
            "0  Australia  1.925583   2.020            0.725725                  0.376886   \n",
            "1     Canada  2.392708   2.280            0.400088                  0.167211   \n",
            "2     Sweden  1.840417   1.605            0.749833                  0.407425   \n",
            "\n",
            "   Variance  Skewness  \n",
            "0  0.526676  0.439009  \n",
            "1  0.160071  0.699032  \n",
            "2  0.562249  0.565486  \n"
          ]
        }
      ]
    },
    {
      "cell_type": "markdown",
      "source": [
        "# Визуелизација\n",
        "\n",
        "За подобро да стигниме до заклучоци правиме неколку визуелизации"
      ],
      "metadata": {
        "id": "arJvpaX6I62F"
      }
    },
    {
      "cell_type": "markdown",
      "source": [
        "За секој производ во држава ја насликуваме на неговата просечна цена низ годините."
      ],
      "metadata": {
        "id": "2EAYag2uLAkT"
      }
    },
    {
      "cell_type": "code",
      "source": [
        "import matplotlib.pyplot as plt\n",
        "# Line plot\n",
        "for c in countries:\n",
        "    for food in df['Food Item '].unique().tolist():\n",
        "        df[(df['Country '] == c) & (df['Food Item '] == food)].plot(x='Date', y='Price in USD', kind='line')\n",
        "        plt.title(f'Average price in USD for {food} for {c}')\n",
        "        plt.xlabel('Date')\n",
        "        plt.ylabel('Average price')\n",
        "        plt.show()"
      ],
      "metadata": {
        "id": "Lk66MNMneSVM"
      },
      "execution_count": null,
      "outputs": []
    },
    {
      "cell_type": "markdown",
      "source": [
        "За секој производ во држава ја насликуваме фрекфенцијата на неговата просечна цена"
      ],
      "metadata": {
        "id": "Wnmdes4_LW6i"
      }
    },
    {
      "cell_type": "code",
      "source": [
        "for c in countries:\n",
        "    for food in df['Food Item '].unique().tolist():\n",
        "        df[(df['Country '] == c) & (df['Food Item '] == food)]['Price in USD'].plot(kind='hist', bins=5)\n",
        "        plt.title(f'Prices for {food} for {c}')\n",
        "        plt.xlabel('Value')\n",
        "        plt.ylabel('Frequency')\n",
        "        plt.show()"
      ],
      "metadata": {
        "id": "u4gtBOuRtio3"
      },
      "execution_count": null,
      "outputs": []
    },
    {
      "cell_type": "markdown",
      "source": [
        "# Мрежи на поврзаност\n",
        "\n",
        "Правиме граф за годишните цени на производите за секоја држава. Ваквиот граф е најпрегледен бидејќи доколку цените не се на годишно ниво графот ќе има премногу јазли и се губи неговата читливост"
      ],
      "metadata": {
        "id": "EeqciCUXLzeR"
      }
    },
    {
      "cell_type": "markdown",
      "source": [
        "Имаме еден јазел за одбраната држава, кој е во врска со 4 други јазли, по еден јазел за секој производ. Потоа овие четири јазли покажуваат кон просечните цени на производот за секоја година"
      ],
      "metadata": {
        "id": "B2tsPu69MqvJ"
      }
    },
    {
      "cell_type": "code",
      "source": [
        "for country in df['Country '].unique().tolist():\n",
        "    G = nx.Graph()\n",
        "\n",
        "    food_items = df['Food Item '].unique()\n",
        "\n",
        "    for food_item in food_items.tolist():\n",
        "        G.add_node(f\"{food_item}_{country[:3]}\")\n",
        "        G.add_edge(country, f\"{food_item}_{country[:3]}\")\n",
        "\n",
        "\n",
        "    for food_item in food_items.tolist():\n",
        "        for date, price in zip(df[(df['Country '] == country) & (df['Food Item '] == food_item)]['Date'].dt.year.unique(), df[(df['Country '] == country) & (df['Food Item '] == food_item)]['Price in USD'].unique()):\n",
        "            G.add_node(f\"{str(date)[:10]}_{food_item[:1]}_{country[:1]}\")\n",
        "            G.add_edge(f\"{food_item}_{country[:3]}\", f\"{str(date)[:10]}_{food_item[:1]}_{country[:1]}\", weight=price)\n",
        "\n",
        "    pos = nx.fruchterman_reingold_layout(G, k=0.5, iterations=100)\n",
        "    nx.draw(G, pos, with_labels=True, node_size=100, font_size=7, font_color='black')\n",
        "\n",
        "    labels = nx.get_edge_attributes(G,'weight')\n",
        "\n",
        "    nx.draw_networkx_edge_labels(G, pos, edge_labels=labels, font_size=7, font_color='blue')\n",
        "    plt.show()\n"
      ],
      "metadata": {
        "id": "7-igJGh-CMcn"
      },
      "execution_count": null,
      "outputs": []
    },
    {
      "cell_type": "markdown",
      "source": [
        "Се одлучив да го оставам и кодот од големиот граф."
      ],
      "metadata": {
        "id": "FBrR9mDxNHIt"
      }
    },
    {
      "cell_type": "code",
      "source": [
        "for country in df['Country '].unique().tolist():\n",
        "    G = nx.Graph()\n",
        "\n",
        "    food_items = df['Food Item '].unique()\n",
        "\n",
        "    for food_item in food_items.tolist():\n",
        "        G.add_node(f\"{food_item}_{country[:3]}\")\n",
        "        G.add_edge(country, f\"{food_item}_{country[:3]}\")\n",
        "\n",
        "\n",
        "    for food_item in food_items.tolist():\n",
        "        for date, price in zip(df[(df['Country '] == country) & (df['Food Item '] == food_item)]['Date'].unique(), df[(df['Country '] == country) & (df['Food Item '] == food_item)]['Price in USD'].unique()):\n",
        "            G.add_node(f\"{str(date)[:10]}_{food_item[:1]}_{country[:1]}\")\n",
        "            G.add_edge(f\"{food_item}_{country[:3]}\", f\"{str(date)[:10]}_{food_item[:1]}_{country[:1]}\", weight=price)\n",
        "\n",
        "    pos = nx.fruchterman_reingold_layout(G, k=0.5, iterations=100)\n",
        "    nx.draw(G, pos, with_labels=True, node_size=100, font_size=7, font_color='black')\n",
        "\n",
        "    labels = nx.get_edge_attributes(G,'weight')\n",
        "\n",
        "    nx.draw_networkx_edge_labels(G, pos, edge_labels=labels, font_size=7, font_color='blue')\n",
        "    plt.show()\n"
      ],
      "metadata": {
        "id": "PxXmE65zCTCg"
      },
      "execution_count": null,
      "outputs": []
    }
  ]
}